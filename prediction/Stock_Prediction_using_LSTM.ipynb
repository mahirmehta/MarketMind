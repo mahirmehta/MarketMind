{
  "cells": [
    {
      "cell_type": "code",
      "execution_count": 1,
      "metadata": {
        "id": "0GCCZK2zFD95"
      },
      "outputs": [],
      "source": [
        "import numpy as np\n",
        "import pandas as pd\n",
        "import pandas_datareader as pdr\n",
        "import tensorflow\n",
        "import keras\n",
        "from keras.preprocessing import sequence\n",
        "from sklearn.preprocessing import MinMaxScaler\n",
        "from sklearn.metrics import mean_squared_error as mse\n",
        "from sklearn.metrics import r2_score\n",
        "from sklearn import neighbors\n",
        "from sklearn.ensemble import RandomForestRegressor\n",
        "from sklearn.utils import shuffle\n",
        "from sklearn.model_selection import RandomizedSearchCV, GridSearchCV, train_test_split, KFold, cross_val_score\n",
        "from sklearn.svm import SVR, SVC\n",
        "from sklearn import metrics\n",
        "from sklearn.metrics import confusion_matrix\n",
        "from sklearn.metrics import classification_report\n",
        "import itertools\n",
        "from keras.models import Sequential\n",
        "from keras.layers import Dense, LSTM\n",
        "import matplotlib.pyplot as plt\n"
      ]
    },
    {
      "cell_type": "code",
      "execution_count": 2,
      "metadata": {
        "colab": {
          "base_uri": "https://localhost:8080/"
        },
        "id": "fkqQoe3HHvRx",
        "outputId": "29b28590-8f14-43f9-889f-c52360862170"
      },
      "outputs": [
        {
          "output_type": "stream",
          "name": "stderr",
          "text": [
            "\r[*********************100%%**********************]  1 of 1 completed\n"
          ]
        }
      ],
      "source": [
        "import yfinance as yf\n",
        "import datetime\n",
        "\n",
        "ticker = 'IDFCFIRSTB.NS'\n",
        "start_date = datetime.datetime(2018, 1, 1)\n",
        "end_date = datetime.datetime(2024, 4, 9)\n",
        "\n",
        "df = yf.download(ticker, start=start_date, end=end_date)"
      ]
    },
    {
      "cell_type": "code",
      "execution_count": 3,
      "metadata": {
        "colab": {
          "base_uri": "https://localhost:8080/",
          "height": 455
        },
        "id": "oZp9rxTbJlbU",
        "outputId": "4d3e25d9-5567-400b-bcd0-ded01ece0400"
      },
      "outputs": [
        {
          "output_type": "execute_result",
          "data": {
            "text/plain": [
              "                 Open       High        Low      Close  Adj Close    Volume\n",
              "Date                                                                       \n",
              "2018-01-01  54.400002  55.400002  54.250000  54.849998  53.733650   4483875\n",
              "2018-01-02  55.000000  55.200001  53.750000  53.950001  52.851967   4912922\n",
              "2018-01-03  54.299999  54.599998  54.000000  54.150002  53.047897   3088116\n",
              "2018-01-04  54.200001  54.700001  53.900002  54.549999  53.439754   3665726\n",
              "2018-01-05  54.650002  58.799999  54.650002  58.250000  57.064449  24488254\n",
              "...               ...        ...        ...        ...        ...       ...\n",
              "2024-04-02  77.500000  79.449997  77.050003  79.150002  79.150002  46916727\n",
              "2024-04-03  78.800003  78.949997  78.150002  78.400002  78.400002  41884727\n",
              "2024-04-04  79.000000  80.099998  78.550003  79.449997  79.449997  51797671\n",
              "2024-04-05  79.599998  80.949997  79.050003  80.650002  80.650002  36591208\n",
              "2024-04-08  82.300003  83.599998  81.449997  82.500000  82.500000  86003143\n",
              "\n",
              "[1547 rows x 6 columns]"
            ],
            "text/html": [
              "\n",
              "  <div id=\"df-ce30da4c-0105-43d6-8d07-0516f9a273c1\" class=\"colab-df-container\">\n",
              "    <div>\n",
              "<style scoped>\n",
              "    .dataframe tbody tr th:only-of-type {\n",
              "        vertical-align: middle;\n",
              "    }\n",
              "\n",
              "    .dataframe tbody tr th {\n",
              "        vertical-align: top;\n",
              "    }\n",
              "\n",
              "    .dataframe thead th {\n",
              "        text-align: right;\n",
              "    }\n",
              "</style>\n",
              "<table border=\"1\" class=\"dataframe\">\n",
              "  <thead>\n",
              "    <tr style=\"text-align: right;\">\n",
              "      <th></th>\n",
              "      <th>Open</th>\n",
              "      <th>High</th>\n",
              "      <th>Low</th>\n",
              "      <th>Close</th>\n",
              "      <th>Adj Close</th>\n",
              "      <th>Volume</th>\n",
              "    </tr>\n",
              "    <tr>\n",
              "      <th>Date</th>\n",
              "      <th></th>\n",
              "      <th></th>\n",
              "      <th></th>\n",
              "      <th></th>\n",
              "      <th></th>\n",
              "      <th></th>\n",
              "    </tr>\n",
              "  </thead>\n",
              "  <tbody>\n",
              "    <tr>\n",
              "      <th>2018-01-01</th>\n",
              "      <td>54.400002</td>\n",
              "      <td>55.400002</td>\n",
              "      <td>54.250000</td>\n",
              "      <td>54.849998</td>\n",
              "      <td>53.733650</td>\n",
              "      <td>4483875</td>\n",
              "    </tr>\n",
              "    <tr>\n",
              "      <th>2018-01-02</th>\n",
              "      <td>55.000000</td>\n",
              "      <td>55.200001</td>\n",
              "      <td>53.750000</td>\n",
              "      <td>53.950001</td>\n",
              "      <td>52.851967</td>\n",
              "      <td>4912922</td>\n",
              "    </tr>\n",
              "    <tr>\n",
              "      <th>2018-01-03</th>\n",
              "      <td>54.299999</td>\n",
              "      <td>54.599998</td>\n",
              "      <td>54.000000</td>\n",
              "      <td>54.150002</td>\n",
              "      <td>53.047897</td>\n",
              "      <td>3088116</td>\n",
              "    </tr>\n",
              "    <tr>\n",
              "      <th>2018-01-04</th>\n",
              "      <td>54.200001</td>\n",
              "      <td>54.700001</td>\n",
              "      <td>53.900002</td>\n",
              "      <td>54.549999</td>\n",
              "      <td>53.439754</td>\n",
              "      <td>3665726</td>\n",
              "    </tr>\n",
              "    <tr>\n",
              "      <th>2018-01-05</th>\n",
              "      <td>54.650002</td>\n",
              "      <td>58.799999</td>\n",
              "      <td>54.650002</td>\n",
              "      <td>58.250000</td>\n",
              "      <td>57.064449</td>\n",
              "      <td>24488254</td>\n",
              "    </tr>\n",
              "    <tr>\n",
              "      <th>...</th>\n",
              "      <td>...</td>\n",
              "      <td>...</td>\n",
              "      <td>...</td>\n",
              "      <td>...</td>\n",
              "      <td>...</td>\n",
              "      <td>...</td>\n",
              "    </tr>\n",
              "    <tr>\n",
              "      <th>2024-04-02</th>\n",
              "      <td>77.500000</td>\n",
              "      <td>79.449997</td>\n",
              "      <td>77.050003</td>\n",
              "      <td>79.150002</td>\n",
              "      <td>79.150002</td>\n",
              "      <td>46916727</td>\n",
              "    </tr>\n",
              "    <tr>\n",
              "      <th>2024-04-03</th>\n",
              "      <td>78.800003</td>\n",
              "      <td>78.949997</td>\n",
              "      <td>78.150002</td>\n",
              "      <td>78.400002</td>\n",
              "      <td>78.400002</td>\n",
              "      <td>41884727</td>\n",
              "    </tr>\n",
              "    <tr>\n",
              "      <th>2024-04-04</th>\n",
              "      <td>79.000000</td>\n",
              "      <td>80.099998</td>\n",
              "      <td>78.550003</td>\n",
              "      <td>79.449997</td>\n",
              "      <td>79.449997</td>\n",
              "      <td>51797671</td>\n",
              "    </tr>\n",
              "    <tr>\n",
              "      <th>2024-04-05</th>\n",
              "      <td>79.599998</td>\n",
              "      <td>80.949997</td>\n",
              "      <td>79.050003</td>\n",
              "      <td>80.650002</td>\n",
              "      <td>80.650002</td>\n",
              "      <td>36591208</td>\n",
              "    </tr>\n",
              "    <tr>\n",
              "      <th>2024-04-08</th>\n",
              "      <td>82.300003</td>\n",
              "      <td>83.599998</td>\n",
              "      <td>81.449997</td>\n",
              "      <td>82.500000</td>\n",
              "      <td>82.500000</td>\n",
              "      <td>86003143</td>\n",
              "    </tr>\n",
              "  </tbody>\n",
              "</table>\n",
              "<p>1547 rows × 6 columns</p>\n",
              "</div>\n",
              "    <div class=\"colab-df-buttons\">\n",
              "\n",
              "  <div class=\"colab-df-container\">\n",
              "    <button class=\"colab-df-convert\" onclick=\"convertToInteractive('df-ce30da4c-0105-43d6-8d07-0516f9a273c1')\"\n",
              "            title=\"Convert this dataframe to an interactive table.\"\n",
              "            style=\"display:none;\">\n",
              "\n",
              "  <svg xmlns=\"http://www.w3.org/2000/svg\" height=\"24px\" viewBox=\"0 -960 960 960\">\n",
              "    <path d=\"M120-120v-720h720v720H120Zm60-500h600v-160H180v160Zm220 220h160v-160H400v160Zm0 220h160v-160H400v160ZM180-400h160v-160H180v160Zm440 0h160v-160H620v160ZM180-180h160v-160H180v160Zm440 0h160v-160H620v160Z\"/>\n",
              "  </svg>\n",
              "    </button>\n",
              "\n",
              "  <style>\n",
              "    .colab-df-container {\n",
              "      display:flex;\n",
              "      gap: 12px;\n",
              "    }\n",
              "\n",
              "    .colab-df-convert {\n",
              "      background-color: #E8F0FE;\n",
              "      border: none;\n",
              "      border-radius: 50%;\n",
              "      cursor: pointer;\n",
              "      display: none;\n",
              "      fill: #1967D2;\n",
              "      height: 32px;\n",
              "      padding: 0 0 0 0;\n",
              "      width: 32px;\n",
              "    }\n",
              "\n",
              "    .colab-df-convert:hover {\n",
              "      background-color: #E2EBFA;\n",
              "      box-shadow: 0px 1px 2px rgba(60, 64, 67, 0.3), 0px 1px 3px 1px rgba(60, 64, 67, 0.15);\n",
              "      fill: #174EA6;\n",
              "    }\n",
              "\n",
              "    .colab-df-buttons div {\n",
              "      margin-bottom: 4px;\n",
              "    }\n",
              "\n",
              "    [theme=dark] .colab-df-convert {\n",
              "      background-color: #3B4455;\n",
              "      fill: #D2E3FC;\n",
              "    }\n",
              "\n",
              "    [theme=dark] .colab-df-convert:hover {\n",
              "      background-color: #434B5C;\n",
              "      box-shadow: 0px 1px 3px 1px rgba(0, 0, 0, 0.15);\n",
              "      filter: drop-shadow(0px 1px 2px rgba(0, 0, 0, 0.3));\n",
              "      fill: #FFFFFF;\n",
              "    }\n",
              "  </style>\n",
              "\n",
              "    <script>\n",
              "      const buttonEl =\n",
              "        document.querySelector('#df-ce30da4c-0105-43d6-8d07-0516f9a273c1 button.colab-df-convert');\n",
              "      buttonEl.style.display =\n",
              "        google.colab.kernel.accessAllowed ? 'block' : 'none';\n",
              "\n",
              "      async function convertToInteractive(key) {\n",
              "        const element = document.querySelector('#df-ce30da4c-0105-43d6-8d07-0516f9a273c1');\n",
              "        const dataTable =\n",
              "          await google.colab.kernel.invokeFunction('convertToInteractive',\n",
              "                                                    [key], {});\n",
              "        if (!dataTable) return;\n",
              "\n",
              "        const docLinkHtml = 'Like what you see? Visit the ' +\n",
              "          '<a target=\"_blank\" href=https://colab.research.google.com/notebooks/data_table.ipynb>data table notebook</a>'\n",
              "          + ' to learn more about interactive tables.';\n",
              "        element.innerHTML = '';\n",
              "        dataTable['output_type'] = 'display_data';\n",
              "        await google.colab.output.renderOutput(dataTable, element);\n",
              "        const docLink = document.createElement('div');\n",
              "        docLink.innerHTML = docLinkHtml;\n",
              "        element.appendChild(docLink);\n",
              "      }\n",
              "    </script>\n",
              "  </div>\n",
              "\n",
              "\n",
              "<div id=\"df-4a5542ff-a04e-4d2b-859b-9413af50f3f7\">\n",
              "  <button class=\"colab-df-quickchart\" onclick=\"quickchart('df-4a5542ff-a04e-4d2b-859b-9413af50f3f7')\"\n",
              "            title=\"Suggest charts\"\n",
              "            style=\"display:none;\">\n",
              "\n",
              "<svg xmlns=\"http://www.w3.org/2000/svg\" height=\"24px\"viewBox=\"0 0 24 24\"\n",
              "     width=\"24px\">\n",
              "    <g>\n",
              "        <path d=\"M19 3H5c-1.1 0-2 .9-2 2v14c0 1.1.9 2 2 2h14c1.1 0 2-.9 2-2V5c0-1.1-.9-2-2-2zM9 17H7v-7h2v7zm4 0h-2V7h2v10zm4 0h-2v-4h2v4z\"/>\n",
              "    </g>\n",
              "</svg>\n",
              "  </button>\n",
              "\n",
              "<style>\n",
              "  .colab-df-quickchart {\n",
              "      --bg-color: #E8F0FE;\n",
              "      --fill-color: #1967D2;\n",
              "      --hover-bg-color: #E2EBFA;\n",
              "      --hover-fill-color: #174EA6;\n",
              "      --disabled-fill-color: #AAA;\n",
              "      --disabled-bg-color: #DDD;\n",
              "  }\n",
              "\n",
              "  [theme=dark] .colab-df-quickchart {\n",
              "      --bg-color: #3B4455;\n",
              "      --fill-color: #D2E3FC;\n",
              "      --hover-bg-color: #434B5C;\n",
              "      --hover-fill-color: #FFFFFF;\n",
              "      --disabled-bg-color: #3B4455;\n",
              "      --disabled-fill-color: #666;\n",
              "  }\n",
              "\n",
              "  .colab-df-quickchart {\n",
              "    background-color: var(--bg-color);\n",
              "    border: none;\n",
              "    border-radius: 50%;\n",
              "    cursor: pointer;\n",
              "    display: none;\n",
              "    fill: var(--fill-color);\n",
              "    height: 32px;\n",
              "    padding: 0;\n",
              "    width: 32px;\n",
              "  }\n",
              "\n",
              "  .colab-df-quickchart:hover {\n",
              "    background-color: var(--hover-bg-color);\n",
              "    box-shadow: 0 1px 2px rgba(60, 64, 67, 0.3), 0 1px 3px 1px rgba(60, 64, 67, 0.15);\n",
              "    fill: var(--button-hover-fill-color);\n",
              "  }\n",
              "\n",
              "  .colab-df-quickchart-complete:disabled,\n",
              "  .colab-df-quickchart-complete:disabled:hover {\n",
              "    background-color: var(--disabled-bg-color);\n",
              "    fill: var(--disabled-fill-color);\n",
              "    box-shadow: none;\n",
              "  }\n",
              "\n",
              "  .colab-df-spinner {\n",
              "    border: 2px solid var(--fill-color);\n",
              "    border-color: transparent;\n",
              "    border-bottom-color: var(--fill-color);\n",
              "    animation:\n",
              "      spin 1s steps(1) infinite;\n",
              "  }\n",
              "\n",
              "  @keyframes spin {\n",
              "    0% {\n",
              "      border-color: transparent;\n",
              "      border-bottom-color: var(--fill-color);\n",
              "      border-left-color: var(--fill-color);\n",
              "    }\n",
              "    20% {\n",
              "      border-color: transparent;\n",
              "      border-left-color: var(--fill-color);\n",
              "      border-top-color: var(--fill-color);\n",
              "    }\n",
              "    30% {\n",
              "      border-color: transparent;\n",
              "      border-left-color: var(--fill-color);\n",
              "      border-top-color: var(--fill-color);\n",
              "      border-right-color: var(--fill-color);\n",
              "    }\n",
              "    40% {\n",
              "      border-color: transparent;\n",
              "      border-right-color: var(--fill-color);\n",
              "      border-top-color: var(--fill-color);\n",
              "    }\n",
              "    60% {\n",
              "      border-color: transparent;\n",
              "      border-right-color: var(--fill-color);\n",
              "    }\n",
              "    80% {\n",
              "      border-color: transparent;\n",
              "      border-right-color: var(--fill-color);\n",
              "      border-bottom-color: var(--fill-color);\n",
              "    }\n",
              "    90% {\n",
              "      border-color: transparent;\n",
              "      border-bottom-color: var(--fill-color);\n",
              "    }\n",
              "  }\n",
              "</style>\n",
              "\n",
              "  <script>\n",
              "    async function quickchart(key) {\n",
              "      const quickchartButtonEl =\n",
              "        document.querySelector('#' + key + ' button');\n",
              "      quickchartButtonEl.disabled = true;  // To prevent multiple clicks.\n",
              "      quickchartButtonEl.classList.add('colab-df-spinner');\n",
              "      try {\n",
              "        const charts = await google.colab.kernel.invokeFunction(\n",
              "            'suggestCharts', [key], {});\n",
              "      } catch (error) {\n",
              "        console.error('Error during call to suggestCharts:', error);\n",
              "      }\n",
              "      quickchartButtonEl.classList.remove('colab-df-spinner');\n",
              "      quickchartButtonEl.classList.add('colab-df-quickchart-complete');\n",
              "    }\n",
              "    (() => {\n",
              "      let quickchartButtonEl =\n",
              "        document.querySelector('#df-4a5542ff-a04e-4d2b-859b-9413af50f3f7 button');\n",
              "      quickchartButtonEl.style.display =\n",
              "        google.colab.kernel.accessAllowed ? 'block' : 'none';\n",
              "    })();\n",
              "  </script>\n",
              "</div>\n",
              "    </div>\n",
              "  </div>\n"
            ],
            "application/vnd.google.colaboratory.intrinsic+json": {
              "type": "dataframe",
              "variable_name": "df",
              "summary": "{\n  \"name\": \"df\",\n  \"rows\": 1547,\n  \"fields\": [\n    {\n      \"column\": \"Date\",\n      \"properties\": {\n        \"dtype\": \"date\",\n        \"min\": \"2018-01-01 00:00:00\",\n        \"max\": \"2024-04-08 00:00:00\",\n        \"num_unique_values\": 1547,\n        \"samples\": [\n          \"2018-02-14 00:00:00\",\n          \"2021-02-24 00:00:00\",\n          \"2022-02-03 00:00:00\"\n        ],\n        \"semantic_type\": \"\",\n        \"description\": \"\"\n      }\n    },\n    {\n      \"column\": \"Open\",\n      \"properties\": {\n        \"dtype\": \"number\",\n        \"std\": 16.970439805236108,\n        \"min\": 18.5,\n        \"max\": 99.75,\n        \"num_unique_values\": 797,\n        \"samples\": [\n          91.19999694824219,\n          83.30000305175781,\n          49.79999923706055\n        ],\n        \"semantic_type\": \"\",\n        \"description\": \"\"\n      }\n    },\n    {\n      \"column\": \"High\",\n      \"properties\": {\n        \"dtype\": \"number\",\n        \"std\": 17.064422161172086,\n        \"min\": 19.299999237060547,\n        \"max\": 100.69999694824219,\n        \"num_unique_values\": 801,\n        \"samples\": [\n          91.8499984741211,\n          83.0,\n          48.400001525878906\n        ],\n        \"semantic_type\": \"\",\n        \"description\": \"\"\n      }\n    },\n    {\n      \"column\": \"Low\",\n      \"properties\": {\n        \"dtype\": \"number\",\n        \"std\": 16.828283280967632,\n        \"min\": 17.649999618530273,\n        \"max\": 97.69999694824219,\n        \"num_unique_values\": 787,\n        \"samples\": [\n          34.099998474121094,\n          50.25,\n          44.20000076293945\n        ],\n        \"semantic_type\": \"\",\n        \"description\": \"\"\n      }\n    },\n    {\n      \"column\": \"Close\",\n      \"properties\": {\n        \"dtype\": \"number\",\n        \"std\": 16.93193990081793,\n        \"min\": 18.149999618530273,\n        \"max\": 99.19999694824219,\n        \"num_unique_values\": 781,\n        \"samples\": [\n          54.900001525878906,\n          57.5,\n          29.850000381469727\n        ],\n        \"semantic_type\": \"\",\n        \"description\": \"\"\n      }\n    },\n    {\n      \"column\": \"Adj Close\",\n      \"properties\": {\n        \"dtype\": \"number\",\n        \"std\": 16.940168189350587,\n        \"min\": 18.149999618530273,\n        \"max\": 99.19999694824219,\n        \"num_unique_values\": 873,\n        \"samples\": [\n          83.19999694824219,\n          39.95000076293945,\n          21.850000381469727\n        ],\n        \"semantic_type\": \"\",\n        \"description\": \"\"\n      }\n    },\n    {\n      \"column\": \"Volume\",\n      \"properties\": {\n        \"dtype\": \"number\",\n        \"std\": 24829934,\n        \"min\": 0,\n        \"max\": 449067817,\n        \"num_unique_values\": 1544,\n        \"samples\": [\n          85088545,\n          84829514,\n          24268699\n        ],\n        \"semantic_type\": \"\",\n        \"description\": \"\"\n      }\n    }\n  ]\n}"
            }
          },
          "metadata": {},
          "execution_count": 3
        }
      ],
      "source": [
        "df"
      ]
    },
    {
      "cell_type": "code",
      "execution_count": 4,
      "metadata": {
        "colab": {
          "base_uri": "https://localhost:8080/"
        },
        "id": "m6ryczMLJovb",
        "outputId": "3faf635b-b1f2-4684-beff-ff2d2b4a8703"
      },
      "outputs": [
        {
          "output_type": "execute_result",
          "data": {
            "text/plain": [
              "(1547, 6)"
            ]
          },
          "metadata": {},
          "execution_count": 4
        }
      ],
      "source": [
        "df.shape"
      ]
    },
    {
      "cell_type": "markdown",
      "metadata": {
        "id": "tb-3JrqV60LU"
      },
      "source": [
        "<h1><b>Closing Price Prediction<b></h1>"
      ]
    },
    {
      "cell_type": "code",
      "execution_count": 5,
      "metadata": {
        "colab": {
          "base_uri": "https://localhost:8080/",
          "height": 641
        },
        "id": "AxtNGyieB9ON",
        "outputId": "e563811e-c777-4510-c8f1-a5f6dfd1e1d5"
      },
      "outputs": [
        {
          "output_type": "display_data",
          "data": {
            "text/plain": [
              "<Figure size 1200x700 with 1 Axes>"
            ],
            "image/png": "[encoded data removed]"
          },
          "metadata": {}
        }
      ],
      "source": [
        "plt.figure(figsize=(12, 7))\n",
        "plt.title('Closing Price')\n",
        "plt.plot(df['Close'])\n",
        "plt.xlabel('Date')\n",
        "plt.ylabel('Close Price')\n",
        "plt.grid(True)\n",
        "plt.show()"
      ]
    },
    {
      "cell_type": "code",
      "execution_count": 6,
      "metadata": {
        "colab": {
          "base_uri": "https://localhost:8080/"
        },
        "id": "osh1N3qY6bAe",
        "outputId": "b68cf4f8-34e5-4e62-86a8-f4c002db6aff"
      },
      "outputs": [
        {
          "output_type": "execute_result",
          "data": {
            "text/plain": [
              "1238"
            ]
          },
          "metadata": {},
          "execution_count": 6
        }
      ],
      "source": [
        "import math\n",
        "data=df.filter(['Close'])\n",
        "\n",
        "#Convert to np array\n",
        "dataset=data.values\n",
        "\n",
        "#Get the number of rows to train the model on\n",
        "#math.ceil to round up\n",
        "\n",
        "training_data_len = math.ceil(len(dataset)*.8)\n",
        "\n",
        "\n",
        "#print(dataset)\n",
        "training_data_len"
      ]
    },
    {
      "cell_type": "code",
      "execution_count": 7,
      "metadata": {
        "colab": {
          "base_uri": "https://localhost:8080/"
        },
        "id": "Hgd6SL7_6gya",
        "outputId": "3f2b3b17-044a-415a-b7c9-c76600855438"
      },
      "outputs": [
        {
          "output_type": "execute_result",
          "data": {
            "text/plain": [
              "array([[0.45280691],\n",
              "       [0.44170268],\n",
              "       [0.4441703 ],\n",
              "       ...,\n",
              "       [0.75632325],\n",
              "       [0.77112898],\n",
              "       [0.79395438]])"
            ]
          },
          "metadata": {},
          "execution_count": 7
        }
      ],
      "source": [
        "#Scale the data\n",
        "\n",
        "scaler = MinMaxScaler(feature_range=(0,1))\n",
        "scaled_data = scaler.fit_transform(dataset)\n",
        "\n",
        "scaled_data"
      ]
    },
    {
      "cell_type": "code",
      "execution_count": 8,
      "metadata": {
        "colab": {
          "base_uri": "https://localhost:8080/"
        },
        "id": "YK4Rz81v6lSK",
        "outputId": "dc286e8d-518b-4979-a5a6-7037f5b41973"
      },
      "outputs": [
        {
          "output_type": "stream",
          "name": "stdout",
          "text": [
            "[array([0.45280691, 0.44170268, 0.4441703 , 0.4491055 , 0.49475634,\n",
            "       0.55768045, 0.55089452, 0.55644666, 0.62183843, 0.60888343,\n",
            "       0.56878472, 0.51696485, 0.5256015 , 0.49537324, 0.50030848,\n",
            "       0.5083282 , 0.51017892, 0.50586062, 0.49413945, 0.49105493,\n",
            "       0.48056755, 0.47686614, 0.46822949, 0.4262801 , 0.42936462,\n",
            "       0.40900679, 0.42011107, 0.43306603, 0.43244913, 0.43800127,\n",
            "       0.43985195, 0.43306603, 0.4312153 , 0.42072796, 0.42011107,\n",
            "       0.42196175, 0.41024063, 0.41702655, 0.42134486, 0.41826034,\n",
            "       0.41147442, 0.41579272, 0.40345466, 0.39481805, 0.37939547,\n",
            "       0.3861814 , 0.39235043, 0.38988281, 0.39481805, 0.39666873,\n",
            "       0.39605184, 0.39543494, 0.38494756, 0.38371377, 0.38433067,\n",
            "       0.38186305, 0.36520668, 0.36212216, 0.37754474, 0.36027144,\n",
            "       0.3676743 , 0.37754474, 0.37137571, 0.38679829, 0.39111659,\n",
            "       0.39728563, 0.38803208, 0.3855645 , 0.37939547, 0.38001236,\n",
            "       0.38124615, 0.38247999, 0.3861814 , 0.38494756, 0.37631096,\n",
            "       0.37446023, 0.36582357, 0.36088838, 0.35842075, 0.3676743 ])]\n",
            "[0.3726094984647196]\n",
            "\n"
          ]
        }
      ],
      "source": [
        "#Create training dataset\n",
        "#Create scaled training dataset\n",
        "\n",
        "train_data = scaled_data[0:training_data_len,:]\n",
        "\n",
        "#Split the data into x_train and y_train data set\n",
        "\n",
        "x_train=[]\n",
        "y_train=[]\n",
        "\n",
        "for i in range(80, len(train_data)):\n",
        "    x_train.append(train_data[i-80:i,0])\n",
        "    y_train.append(train_data[i,0])\n",
        "    if i<=80:\n",
        "        print(x_train)\n",
        "        print(y_train)\n",
        "        print()"
      ]
    },
    {
      "cell_type": "code",
      "execution_count": 9,
      "metadata": {
        "id": "ZnCJPKuH6n0j"
      },
      "outputs": [],
      "source": [
        "#convert the x_train and y_train to numpy arrays\n",
        "x_train, y_train = np.array(x_train), np.array(y_train)"
      ]
    },
    {
      "cell_type": "code",
      "execution_count": 10,
      "metadata": {
        "colab": {
          "base_uri": "https://localhost:8080/"
        },
        "id": "TJdpQB8s6rW-",
        "outputId": "e3b369f4-1e3f-45b1-a9a4-de9740698127"
      },
      "outputs": [
        {
          "output_type": "execute_result",
          "data": {
            "text/plain": [
              "(1158, 80, 1)"
            ]
          },
          "metadata": {},
          "execution_count": 10
        }
      ],
      "source": [
        "#Reshape the data into 3 dimensional\n",
        "x_train = np.reshape(x_train, (x_train.shape[0], x_train.shape[1], 1))\n",
        "x_train.shape"
      ]
    },
    {
      "cell_type": "markdown",
      "metadata": {
        "id": "nkdbgeSR66GE"
      },
      "source": [
        "<h1><b>Model Training<b></h1>"
      ]
    },
    {
      "cell_type": "code",
      "execution_count": 11,
      "metadata": {
        "id": "KLyWJL5l6tJV"
      },
      "outputs": [],
      "source": [
        "#Build LSTM model\n",
        "model=Sequential()\n",
        "#Add first layer to model\n",
        "model.add(LSTM(50, return_sequences=True, input_shape=(x_train.shape[1],1),activation='relu'))\n",
        "#Add second layer to model\n",
        "model.add(LSTM(50, return_sequences=False,activation='relu'))\n",
        "#Add Dense Layer to model with 25 neurons\n",
        "model.add(Dense(25))\n",
        "#Add Dense Layer to model with 1 neuron\n",
        "model.add(Dense(1))"
      ]
    },
    {
      "cell_type": "code",
      "execution_count": 12,
      "metadata": {
        "id": "iO1p1dXm7A68"
      },
      "outputs": [],
      "source": [
        "#Compile the model\n",
        "model.compile(optimizer='adam', loss='mean_squared_error')"
      ]
    },
    {
      "cell_type": "code",
      "execution_count": null,
      "metadata": {
        "colab": {
          "base_uri": "https://localhost:8080/"
        },
        "id": "sxZwTEcE7DvH",
        "outputId": "70051109-cd87-400e-a744-e92a658bec5a"
      },
      "outputs": [
        {
          "output_type": "stream",
          "name": "stdout",
          "text": [
            "Epoch 1/50\n",
            "1158/1158 [==============================] - 40s 33ms/step - loss: 0.0025\n",
            "Epoch 2/50\n",
            "1158/1158 [==============================] - 40s 34ms/step - loss: 7.3094e-04\n",
            "Epoch 3/50\n",
            "1158/1158 [==============================] - 38s 33ms/step - loss: 5.5775e-04\n",
            "Epoch 4/50\n",
            "1158/1158 [==============================] - 38s 33ms/step - loss: 5.3158e-04\n",
            "Epoch 5/50\n",
            "1158/1158 [==============================] - 38s 33ms/step - loss: 4.5557e-04\n",
            "Epoch 6/50\n",
            "1158/1158 [==============================] - 38s 33ms/step - loss: 4.2473e-04\n",
            "Epoch 7/50\n",
            "1158/1158 [==============================] - 38s 33ms/step - loss: 3.7675e-04\n",
            "Epoch 8/50\n",
            "1158/1158 [==============================] - 38s 33ms/step - loss: 3.7011e-04\n",
            "Epoch 9/50\n",
            "1158/1158 [==============================] - 38s 33ms/step - loss: 3.1942e-04\n",
            "Epoch 10/50\n",
            "1158/1158 [==============================] - 38s 33ms/step - loss: 3.4579e-04\n",
            "Epoch 11/50\n",
            "1158/1158 [==============================] - 38s 33ms/step - loss: 3.1486e-04\n",
            "Epoch 12/50\n",
            "1158/1158 [==============================] - 38s 32ms/step - loss: 3.4486e-04\n",
            "Epoch 13/50\n",
            "1158/1158 [==============================] - 38s 32ms/step - loss: 2.9976e-04\n",
            "Epoch 14/50\n",
            "1158/1158 [==============================] - 38s 33ms/step - loss: 2.8987e-04\n",
            "Epoch 15/50\n",
            "1158/1158 [==============================] - 38s 33ms/step - loss: 2.9369e-04\n",
            "Epoch 16/50\n",
            "1158/1158 [==============================] - 38s 33ms/step - loss: 3.0512e-04\n",
            "Epoch 17/50\n",
            "1158/1158 [==============================] - 38s 32ms/step - loss: 2.8652e-04\n",
            "Epoch 18/50\n",
            "1158/1158 [==============================] - 38s 33ms/step - loss: 2.9921e-04\n",
            "Epoch 19/50\n",
            "1158/1158 [==============================] - 38s 33ms/step - loss: 3.0369e-04\n",
            "Epoch 20/50\n",
            "1158/1158 [==============================] - 38s 33ms/step - loss: 3.1115e-04\n",
            "Epoch 21/50\n",
            "1158/1158 [==============================] - 38s 33ms/step - loss: 2.7201e-04\n",
            "Epoch 22/50\n",
            "1158/1158 [==============================] - 38s 33ms/step - loss: 2.7321e-04\n",
            "Epoch 23/50\n",
            "1158/1158 [==============================] - 38s 33ms/step - loss: 2.7347e-04\n",
            "Epoch 24/50\n",
            "1158/1158 [==============================] - 38s 33ms/step - loss: 2.7064e-04\n",
            "Epoch 25/50\n",
            "1158/1158 [==============================] - 38s 33ms/step - loss: 2.7011e-04\n",
            "Epoch 26/50\n",
            "1158/1158 [==============================] - 38s 33ms/step - loss: 2.7882e-04\n",
            "Epoch 27/50\n",
            "1158/1158 [==============================] - 38s 33ms/step - loss: 2.6084e-04\n",
            "Epoch 28/50\n",
            "1158/1158 [==============================] - 38s 33ms/step - loss: 2.7049e-04\n",
            "Epoch 29/50\n",
            " 608/1158 [==============>...............] - ETA: 18s - loss: 2.6084e-04"
          ]
        }
      ],
      "source": [
        "#Train the model\n",
        "model.fit(x_train, y_train, batch_size=1,epochs=50)"
      ]
    },
    {
      "cell_type": "markdown",
      "metadata": {
        "id": "68TRliAi7JmR"
      },
      "source": [
        "<h1><b>Testing and Validating Model<b></h1>"
      ]
    },
    {
      "cell_type": "code",
      "execution_count": null,
      "metadata": {
        "id": "Nq3CvB8q7HvY"
      },
      "outputs": [],
      "source": [
        "#Create the test data set\n",
        "#Create a new array containing scaled values\n",
        "\n",
        "test_data=scaled_data[training_data_len-80: , : ]\n",
        "#Create the data sets x_test and y_test\n",
        "\n",
        "x_test=[]\n",
        "y_test=dataset[training_data_len:,:]\n",
        "for i in range(80, len(test_data)):\n",
        "    x_test.append(test_data[i-80:i,0])"
      ]
    },
    {
      "cell_type": "code",
      "execution_count": null,
      "metadata": {
        "id": "VpLoBsn98hXg"
      },
      "outputs": [],
      "source": [
        "#Convert the data to a numpy array\n",
        "\n",
        "x_test=np.array(x_test)"
      ]
    },
    {
      "cell_type": "code",
      "execution_count": null,
      "metadata": {
        "id": "3h-tggn38kLe"
      },
      "outputs": [],
      "source": [
        "#Reshape the data to 3d\n",
        "x_test=np.reshape(x_test,(x_test.shape[0], x_test.shape[1], 1))"
      ]
    },
    {
      "cell_type": "code",
      "execution_count": null,
      "metadata": {
        "id": "gKaVz_Lz8mhD"
      },
      "outputs": [],
      "source": [
        "#Get the models predicted price values\n",
        "\n",
        "predictions=model.predict(x_test)\n",
        "predictions=scaler.inverse_transform(predictions)\n",
        "#plot the data\n",
        "train=data[:training_data_len]\n",
        "valid=data[training_data_len:]\n",
        "valid['predictions'] = predictions\n"
      ]
    },
    {
      "cell_type": "code",
      "execution_count": null,
      "metadata": {
        "id": "-JYeGp9AB9OV"
      },
      "outputs": [],
      "source": [
        "#plot the data\n",
        "train=data[:training_data_len]\n",
        "valid=data[training_data_len:]\n",
        "valid['predictions'] = predictions\n",
        "\n",
        "#Visualize the data\n",
        "plt.figure(figsize=(12,7))\n",
        "plt.title(f'LSTM Result')\n",
        "plt.xlabel('Date')\n",
        "plt.ylabel('Close Price')\n",
        "plt.plot(train['Close'] , color='blue')\n",
        "plt.plot(valid[ 'predictions'] ,marker='o', linestyle='dashed', color='green')\n",
        "plt.plot(valid['Close'] , color='red')\n",
        "plt.legend(['Train','Validation', 'predictions'])\n",
        "plt.grid(True)\n",
        "plt.savefig(f'lstm.{ticker}.png')\n",
        "plt.show()"
      ]
    },
    {
      "cell_type": "code",
      "execution_count": null,
      "metadata": {
        "id": "tEXq4NIs86q_"
      },
      "outputs": [],
      "source": [
        "#Show the valid and predicted prices\n",
        "\n",
        "valid.tail(20)"
      ]
    },
    {
      "cell_type": "code",
      "execution_count": null,
      "metadata": {
        "id": "5cR08oFWB9OW"
      },
      "outputs": [],
      "source": [
        "from sklearn.metrics import mean_squared_error, mean_absolute_error\n",
        "\n",
        "def mean_absolute_percentage_error(y_true, y_pred):\n",
        "    y_true, y_pred = np.array(y_true), np.array(y_pred)\n",
        "    return np.mean(np.abs((y_true - y_pred) / y_true)) * 100\n",
        "\n",
        "\n",
        "mse = mean_squared_error(y_test, predictions)\n",
        "mae = mean_absolute_error(y_test, predictions)\n",
        "rmse =np.sqrt(np.mean(predictions-y_test)**2)\n",
        "\n",
        "\n",
        "\n",
        "print(\"Mean Squared Error:\", mse)\n",
        "print(\"Mean Absolute Error:\", mae)\n",
        "print(\"Root Mean Squared Error:\", rmse)\n",
        "mape = mean_absolute_percentage_error(y_test, predictions)\n",
        "print(\"Mean Absolute Percentage Error (MAPE):\", mape)\n",
        "def symmetric_mean_absolute_percentage_error(y_true, y_pred):\n",
        "    y_true, y_pred = np.array(y_true), np.array(y_pred)\n",
        "    return 100 * np.mean(2 * np.abs(y_pred - y_true) / (np.abs(y_pred) + np.abs(y_true)))\n",
        "\n",
        "\n",
        "# Assuming y_test and predictions are already defined\n",
        "smape = symmetric_mean_absolute_percentage_error(y_test, predictions)\n",
        "print(\"Symmetric Mean Absolute Percentage Error (SMAPE):\", smape)\n",
        "\n"
      ]
    },
    {
      "cell_type": "markdown",
      "metadata": {
        "id": "7eMXMKFp-hU-"
      },
      "source": [
        "<h1><b>Getting Predictions for 60 days from now<b></h1>"
      ]
    },
    {
      "cell_type": "code",
      "execution_count": null,
      "metadata": {
        "id": "8QQGlLNj9GF7"
      },
      "outputs": [],
      "source": [
        "import yfinance as yf\n",
        "import numpy as np\n",
        "import pandas as pd\n",
        "\n",
        "# Assuming you have the necessary imports and the 'model' and 'scaler' objects are defined\n",
        "\n",
        "# Get the historical stock data\n",
        "\n",
        "stock_quote = yf.download(ticker, start=start_date, end=end_date)\n",
        "\n",
        "# Extract 'Close' prices\n",
        "new_df = stock_quote.filter(['Close'])\n",
        "\n",
        "# Take the last 60 days of 'Close' prices and scale them\n",
        "last_60_days = new_df[-60:].values\n",
        "last_60_days_scaled = scaler.transform(last_60_days)\n",
        "\n",
        "# Create an empty list to store predicted prices and dates\n",
        "predicted_prices = []\n",
        "predicted_dates = []\n",
        "\n",
        "# Number of days to forecast (adjust as needed)\n",
        "forecast_days = 60\n",
        "\n",
        "# Loop through the forecast period\n",
        "for i in range(forecast_days):\n",
        "    # Reshape the data for prediction\n",
        "    X_test = np.array([last_60_days_scaled])\n",
        "    X_test = np.reshape(X_test, (X_test.shape[0], X_test.shape[1], 1))\n",
        "\n",
        "    # Get predicted scaled price\n",
        "    pred_price = model.predict(X_test)\n",
        "\n",
        "    # Undo the scaling\n",
        "    pred_price = scaler.inverse_transform(pred_price)\n",
        "\n",
        "    # Append the predicted price to the list\n",
        "    predicted_prices.append(pred_price[0, 0])\n",
        "\n",
        "    # Get the corresponding date for the prediction\n",
        "    next_date = stock_quote.index[-1] + pd.DateOffset(days=i + 1)\n",
        "    predicted_dates.append(next_date)\n",
        "\n",
        "    # Update last_60_days for the next iteration\n",
        "    last_60_days = np.append(last_60_days[1:], [pred_price[0]], axis=0)\n",
        "    last_60_days_scaled = scaler.transform(last_60_days)\n",
        "\n",
        "# Create a DataFrame to display the results\n",
        "predicted_df = pd.DataFrame({'Date': predicted_dates, 'Predicted_Close_Price': predicted_prices})\n",
        "\n",
        "\n",
        "\n",
        "# Save the predicted results to a CSV file with the ticker in the name\n",
        "csv_filename = f'pred.lstm.{ticker}.csv'\n",
        "predicted_df.to_csv(csv_filename, index=False)\n",
        "\n",
        "print(f'Predicted prices saved to {csv_filename}')\n"
      ]
    },
    {
      "cell_type": "code",
      "execution_count": null,
      "metadata": {
        "id": "657-246AB9OX"
      },
      "outputs": [],
      "source": [
        "import matplotlib.pyplot as plt\n",
        "\n",
        "# Plotting historical data\n",
        "plt.figure(figsize=(12, 7))\n",
        "plt.plot(stock_quote.index, stock_quote['Close'], label='Historical Close Prices')\n",
        "\n",
        "# Plotting predicted data\n",
        "plt.plot(predicted_df['Date'], predicted_df['Predicted_Close_Price'], label='Predicted Close Prices')\n",
        "\n",
        "# Adding labels and title\n",
        "plt.title(f'Historical and Predicted Closing Prices for {ticker} Bank')\n",
        "plt.xlabel('Date')\n",
        "plt.ylabel('Closing Price')\n",
        "plt.legend()\n",
        "plt.grid(True)\n",
        "plt.show()\n"
      ]
    },
    {
      "cell_type": "code",
      "execution_count": null,
      "metadata": {
        "id": "izLjUnvaB9OX"
      },
      "outputs": [],
      "source": [
        "# Plotting historical data\n",
        "plt.figure(figsize=(12, 7))\n",
        "plt.plot(stock_quote.index, stock_quote['Close'], label='Historical Close Prices')\n",
        "\n",
        "# Plotting predicted data\n",
        "start_date = stock_quote.index[-1] + pd.Timedelta(days=1)\n",
        "end_date = stock_quote.index[-1] + pd.Timedelta(days=60)\n",
        "predicted_dates = pd.date_range(start=start_date, end=end_date, freq='D')\n",
        "plt.plot(predicted_dates, predicted_df['Predicted_Close_Price'], label='Predicted Close Prices')\n",
        "\n",
        "# Adding labels and title\n",
        "plt.title(f'{ticker} Price Prediction with LSTM')\n",
        "plt.xlabel('Date')\n",
        "plt.ylabel('Closing Price')\n",
        "plt.legend()\n",
        "plt.grid(True)\n",
        "plt.savefig(f'prediction.lstm_{ticker}.NS.png')\n",
        "plt.show()"
      ]
    }
  ],
  "metadata": {
    "colab": {
      "provenance": []
    },
    "kernelspec": {
      "display_name": "Python 3",
      "name": "python3"
    },
    "language_info": {
      "codemirror_mode": {
        "name": "ipython",
        "version": 3
      },
      "file_extension": ".py",
      "mimetype": "text/x-python",
      "name": "python",
      "nbconvert_exporter": "python",
      "pygments_lexer": "ipython3",
      "version": "3.10.10"
    }
  },
  "nbformat": 4,
  "nbformat_minor": 0
}